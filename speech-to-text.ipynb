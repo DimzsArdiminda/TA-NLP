{
 "cells": [
  {
   "cell_type": "code",
   "execution_count": 2,
   "metadata": {},
   "outputs": [],
   "source": [
    "# Import library SpeechRecognition dan googletrans\n",
    "import speech_recognition as sr\n",
    "# Fungsi untuk merekam suara dan mengonversi menjadi teks\n",
    "def record_audio():\n",
    "    # Membuat objek recognizer untuk mengenali suara\n",
    "    recognizer = sr.Recognizer()\n",
    "\n",
    "    # Membuka mikrofon sebagai sumber input\n",
    "    with sr.Microphone() as source:\n",
    "        print(\"Silakan bicara (maksimal 10 detik)...\")\n",
    "\n",
    "        try:\n",
    "            # Mendengarkan suara dari mikrofon dengan batas waktu 10 detik\n",
    "            audio = recognizer.listen(source, timeout=10)\n",
    "            print(\"Mengenali suara...\")\n",
    "            \n",
    "            # Mencoba mengonversi suara ke teks menggunakan Google Web Speech API\n",
    "            text = recognizer.recognize_google(audio, language=\"id-ID\")  # Bahasa Indonesia\n",
    "            print(f\"Teks yang dikenali: {text}\")\n",
    "            return text\n",
    "        except sr.UnknownValueError:\n",
    "            # Jika suara tidak dapat dikenali\n",
    "            print(\"Maaf, suara tidak dapat dikenali.\")\n",
    "            return None\n",
    "        except sr.RequestError as e:\n",
    "            # Jika ada masalah dengan API Google Web Speech\n",
    "            print(f\"Permintaan gagal; {e}\")\n",
    "            return None\n",
    "        except sr.WaitTimeoutError:\n",
    "            # Jika tidak ada suara dalam waktu 10 detik\n",
    "            print(\"Waktu habis, tidak ada suara yang terdeteksi.\")\n",
    "            return None"
   ]
  },
  {
   "cell_type": "code",
   "execution_count": 3,
   "metadata": {},
   "outputs": [],
   "source": [
    "\n",
    "from googletrans import Translator\n",
    "# Fungsi untuk menerjemahkan teks ke Bahasa Jawa\n",
    "def translate_to_javanese(text):\n",
    "    try:\n",
    "        translator = Translator()  # Membuat objek Translator\n",
    "        translation = translator.translate(text, src='id', dest='jw')  # Bahasa Indonesia ke Jawa\n",
    "        # print(f\"Hasil terjemahan ke Bahasa Jawa: {translation.text}\")\n",
    "        return translation.text\n",
    "    except Exception as e:\n",
    "        print(f\"Terjadi kesalahan saat menerjemahkan: {e}\")\n",
    "        return None"
   ]
  },
  {
   "cell_type": "code",
   "execution_count": 4,
   "metadata": {},
   "outputs": [
    {
     "name": "stdout",
     "output_type": "stream",
     "text": [
      "Silakan bicara (maksimal 10 detik)...\n",
      "Mengenali suara...\n",
      "Teks yang dikenali: Saya mau salat\n"
     ]
    }
   ],
   "source": [
    "# Panggil fungsi untuk merekam suara dan mengubah ke teks\n",
    "hasil_teks = record_audio()"
   ]
  },
  {
   "cell_type": "code",
   "execution_count": null,
   "metadata": {},
   "outputs": [
    {
     "name": "stdout",
     "output_type": "stream",
     "text": [
      "Hasil teks yang diterjemahkan: Aku pengin ndedonga\n"
     ]
    }
   ],
   "source": [
    "# Jika teks berhasil dikenali, lakukan terjemahan\n",
    "if hasil_teks:\n",
    "    hasil_terjemahan = translate_to_javanese(hasil_teks)\n",
    "    if hasil_terjemahan:\n",
    "        print(f\"Hasil teks yang diterjemahkan: {hasil_terjemahan}\")"
   ]
  }
 ],
 "metadata": {
  "kernelspec": {
   "display_name": "Python 3",
   "language": "python",
   "name": "python3"
  },
  "language_info": {
   "codemirror_mode": {
    "name": "ipython",
    "version": 3
   },
   "file_extension": ".py",
   "mimetype": "text/x-python",
   "name": "python",
   "nbconvert_exporter": "python",
   "pygments_lexer": "ipython3",
   "version": "3.11.3"
  }
 },
 "nbformat": 4,
 "nbformat_minor": 2
}
